{
 "cells": [
  {
   "cell_type": "code",
   "execution_count": 1,
   "metadata": {},
   "outputs": [],
   "source": [
    "import json"
   ]
  },
  {
   "cell_type": "code",
   "execution_count": 2,
   "metadata": {},
   "outputs": [],
   "source": [
    "with open('Interchange File.json') as file:\n",
    "        interchange = json.load(file)\n",
    "        \n",
    "with open('Source File.json') as src:\n",
    "        source = json.load(src)"
   ]
  },
  {
   "cell_type": "code",
   "execution_count": 3,
   "metadata": {},
   "outputs": [
    {
     "data": {
      "text/plain": [
       "{'Customer': {'FirstName': 'Jack',\n",
       "  'LastName': 'Smith',\n",
       "  'AddressLine1': '302, Street Avenue',\n",
       "  'AddressLine2': 'tokyo',\n",
       "  'ZipCode': '3500081',\n",
       "  'SSN': 1313331160},\n",
       " 'ClaimDetails': {'RevenueCode': 'ZX201', 'ClaimAmount': 0.0}}"
      ]
     },
     "execution_count": 3,
     "metadata": {},
     "output_type": "execute_result"
    }
   ],
   "source": [
    "interchange"
   ]
  },
  {
   "cell_type": "code",
   "execution_count": 4,
   "metadata": {},
   "outputs": [],
   "source": [
    "class AppConfiguration():\n",
    "    def __init__(self, data=None):\n",
    "        if data is None:\n",
    "            with open(\"Interchange File.json\") as fh:\n",
    "                data = json.loads(fh.read())\n",
    "        else:\n",
    "            data = dict(data)\n",
    "\n",
    "        for key, val in data.items():\n",
    "            setattr(self, key, self.compute_attr_value(val))\n",
    "\n",
    "    def compute_attr_value(self, value):\n",
    "        if type(value) is list:\n",
    "            return [self.compute_attr_value(x) for x in value]\n",
    "        elif type(value) is dict:\n",
    "            return AppConfiguration(value)\n",
    "        else:\n",
    "            return value\n",
    "        \n",
    "instance = AppConfiguration()\n",
    "inter_AddressL2 = instance.Customer.AddressLine2"
   ]
  },
  {
   "cell_type": "code",
   "execution_count": 5,
   "metadata": {},
   "outputs": [
    {
     "data": {
      "text/plain": [
       "'tokyo'"
      ]
     },
     "execution_count": 5,
     "metadata": {},
     "output_type": "execute_result"
    }
   ],
   "source": [
    "inter_AddressL2"
   ]
  },
  {
   "cell_type": "code",
   "execution_count": 6,
   "metadata": {},
   "outputs": [],
   "source": [
    "class AppConfiguration():\n",
    "    def __init__(self, data=None):\n",
    "        if data is None:\n",
    "            with open(\"Source File.json\") as fh:\n",
    "                data = json.loads(fh.read())\n",
    "        else:\n",
    "            data = dict(data)\n",
    "\n",
    "        for key, val in data.items():\n",
    "            setattr(self, key, self.compute_attr_value(val))\n",
    "\n",
    "    def compute_attr_value(self, value):\n",
    "        if type(value) is list:\n",
    "            return [self.compute_attr_value(x) for x in value]\n",
    "        elif type(value) is dict:\n",
    "            return AppConfiguration(value)\n",
    "        else:\n",
    "            return value\n",
    "        \n",
    "instance = AppConfiguration()\n",
    "src_AddressL2 = instance.Customer.AddressLine2"
   ]
  },
  {
   "cell_type": "code",
   "execution_count": 7,
   "metadata": {},
   "outputs": [
    {
     "data": {
      "text/plain": [
       "'japan'"
      ]
     },
     "execution_count": 7,
     "metadata": {},
     "output_type": "execute_result"
    }
   ],
   "source": [
    "src_AddressL2"
   ]
  },
  {
   "cell_type": "code",
   "execution_count": 8,
   "metadata": {},
   "outputs": [],
   "source": [
    "interchange['Customer']['AddressLine2'] = src_AddressL2"
   ]
  },
  {
   "cell_type": "code",
   "execution_count": 9,
   "metadata": {},
   "outputs": [
    {
     "data": {
      "text/plain": [
       "{'Customer': {'FirstName': 'Jack',\n",
       "  'LastName': 'Smith',\n",
       "  'AddressLine1': '302, Street Avenue',\n",
       "  'AddressLine2': 'japan',\n",
       "  'ZipCode': '3500081',\n",
       "  'SSN': 1313331160},\n",
       " 'ClaimDetails': {'RevenueCode': 'ZX201', 'ClaimAmount': 0.0}}"
      ]
     },
     "execution_count": 9,
     "metadata": {},
     "output_type": "execute_result"
    }
   ],
   "source": [
    "interchange"
   ]
  },
  {
   "cell_type": "code",
   "execution_count": 11,
   "metadata": {},
   "outputs": [],
   "source": [
    "with open('Interchange File.json', 'w') as fp:\n",
    "    json.dump(interchange, fp,  indent=4)"
   ]
  },
  {
   "cell_type": "code",
   "execution_count": 13,
   "metadata": {},
   "outputs": [
    {
     "name": "stdout",
     "output_type": "stream",
     "text": [
      "First Name: Jack\n",
      "Last Name: Smith\n",
      "Address Line1: 302, Street Avenue\n",
      "Address Line2: tokyo\n",
      "ZipCode: 3500081\n",
      "SSN: 1313331160\n",
      "Revenue Code: ZX201\n",
      "Claim Amount: 0.0\n"
     ]
    }
   ],
   "source": [
    "# for p_id, p_info in interchange.items():\n",
    "#     if ( p_id == \"SSN\" ):\n",
    "#         print(\"\\nInformation:\", p_id)\n",
    "    \n",
    "#     for key in p_info:\n",
    "#         print(key + ':', p_info[key])"
   ]
  },
  {
   "cell_type": "code",
   "execution_count": 14,
   "metadata": {},
   "outputs": [],
   "source": [
    "# for i_id, i_info in interchange.items():\n",
    "#     for s_id, s_info in source.items():\n",
    "# #         if ( i_id == s_id ):\n",
    "# #             print(\"\\nInformation:\", i_id)\n",
    "#         for key in i_info:\n",
    "#             if ( i_info == s_info ):\n",
    "#                 print(key + ':', i_info[key])\n",
    "#             else:\n",
    "#                 print(\"I am here\")\n",
    "   "
   ]
  },
  {
   "cell_type": "code",
   "execution_count": null,
   "metadata": {},
   "outputs": [],
   "source": []
  },
  {
   "cell_type": "code",
   "execution_count": null,
   "metadata": {},
   "outputs": [],
   "source": []
  },
  {
   "cell_type": "code",
   "execution_count": null,
   "metadata": {},
   "outputs": [],
   "source": []
  },
  {
   "cell_type": "code",
   "execution_count": null,
   "metadata": {},
   "outputs": [],
   "source": []
  },
  {
   "cell_type": "code",
   "execution_count": null,
   "metadata": {},
   "outputs": [],
   "source": []
  }
 ],
 "metadata": {
  "kernelspec": {
   "display_name": "Python 3",
   "language": "python",
   "name": "python3"
  },
  "language_info": {
   "codemirror_mode": {
    "name": "ipython",
    "version": 3
   },
   "file_extension": ".py",
   "mimetype": "text/x-python",
   "name": "python",
   "nbconvert_exporter": "python",
   "pygments_lexer": "ipython3",
   "version": "3.7.4"
  }
 },
 "nbformat": 4,
 "nbformat_minor": 2
}
