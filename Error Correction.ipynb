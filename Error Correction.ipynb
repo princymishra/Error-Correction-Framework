{
 "cells": [
  {
   "cell_type": "code",
   "execution_count": 154,
   "metadata": {},
   "outputs": [],
   "source": [
    "import pandas as pd\n",
    "import json\n",
    "import numpy as np\n",
    "import objectpath"
   ]
  },
  {
   "cell_type": "code",
   "execution_count": 135,
   "metadata": {},
   "outputs": [],
   "source": [
    "data_dictionary= pd.read_csv('Data Dictionary.csv')"
   ]
  },
  {
   "cell_type": "code",
   "execution_count": 136,
   "metadata": {},
   "outputs": [
    {
     "data": {
      "text/html": [
       "<div>\n",
       "<style scoped>\n",
       "    .dataframe tbody tr th:only-of-type {\n",
       "        vertical-align: middle;\n",
       "    }\n",
       "\n",
       "    .dataframe tbody tr th {\n",
       "        vertical-align: top;\n",
       "    }\n",
       "\n",
       "    .dataframe thead th {\n",
       "        text-align: right;\n",
       "    }\n",
       "</style>\n",
       "<table border=\"1\" class=\"dataframe\">\n",
       "  <thead>\n",
       "    <tr style=\"text-align: right;\">\n",
       "      <th></th>\n",
       "      <th>Primary Object</th>\n",
       "      <th>Field Name</th>\n",
       "      <th>Field description</th>\n",
       "    </tr>\n",
       "  </thead>\n",
       "  <tbody>\n",
       "    <tr>\n",
       "      <td>0</td>\n",
       "      <td>Customer</td>\n",
       "      <td>First Name</td>\n",
       "      <td>First Name of the Applicant</td>\n",
       "    </tr>\n",
       "    <tr>\n",
       "      <td>1</td>\n",
       "      <td>NaN</td>\n",
       "      <td>Last Name</td>\n",
       "      <td>Last Name of the Applicant</td>\n",
       "    </tr>\n",
       "    <tr>\n",
       "      <td>2</td>\n",
       "      <td>NaN</td>\n",
       "      <td>Address Line1</td>\n",
       "      <td>Address Line1 of the Applicant</td>\n",
       "    </tr>\n",
       "    <tr>\n",
       "      <td>3</td>\n",
       "      <td>NaN</td>\n",
       "      <td>Address Line2</td>\n",
       "      <td>Address Line2 of the Applicant</td>\n",
       "    </tr>\n",
       "    <tr>\n",
       "      <td>4</td>\n",
       "      <td>NaN</td>\n",
       "      <td>Zipcode</td>\n",
       "      <td>Social Security Number of the Applicant</td>\n",
       "    </tr>\n",
       "    <tr>\n",
       "      <td>5</td>\n",
       "      <td>NaN</td>\n",
       "      <td>SSN</td>\n",
       "      <td>Social Security Number of the Applicant</td>\n",
       "    </tr>\n",
       "    <tr>\n",
       "      <td>6</td>\n",
       "      <td>Claim Details</td>\n",
       "      <td>Revenue Code</td>\n",
       "      <td>Revenue Code for the Claim</td>\n",
       "    </tr>\n",
       "    <tr>\n",
       "      <td>7</td>\n",
       "      <td>NaN</td>\n",
       "      <td>Claim Amount</td>\n",
       "      <td>Total Claim Amount of the Claim</td>\n",
       "    </tr>\n",
       "  </tbody>\n",
       "</table>\n",
       "</div>"
      ],
      "text/plain": [
       "  Primary Object    Field Name                         Field description\n",
       "0       Customer    First Name              First Name of the Applicant \n",
       "1            NaN     Last Name               Last Name of the Applicant \n",
       "2            NaN  Address Line1           Address Line1 of the Applicant\n",
       "3            NaN  Address Line2           Address Line2 of the Applicant\n",
       "4            NaN       Zipcode   Social Security Number of the Applicant\n",
       "5            NaN            SSN  Social Security Number of the Applicant\n",
       "6  Claim Details   Revenue Code               Revenue Code for the Claim\n",
       "7            NaN  Claim Amount           Total Claim Amount of the Claim"
      ]
     },
     "execution_count": 136,
     "metadata": {},
     "output_type": "execute_result"
    }
   ],
   "source": [
    "data_dictionary"
   ]
  },
  {
   "cell_type": "code",
   "execution_count": 184,
   "metadata": {},
   "outputs": [],
   "source": [
    "def json_file():\n",
    "    with open('Interchange File.json') as file:\n",
    "        interchange = json.load(file)\n",
    "    return interchange.json"
   ]
  },
  {
   "cell_type": "code",
   "execution_count": 178,
   "metadata": {},
   "outputs": [
    {
     "data": {
      "text/plain": [
       "'{\"Customer\": {\"First Name\": \"Jack\", \"Last Name\": \"Smith\", \"Address Line1\": \"302, Street Avenue\", \"Address Line2\": \"California\", \"ZipCode\": \"3500081\", \"SSN\": 12456753}, \"Claim Details\": {\"Revenue Code\": \"ZX201\", \"Claim Amount\": 0.0}}'"
      ]
     },
     "execution_count": 178,
     "metadata": {},
     "output_type": "execute_result"
    }
   ],
   "source": [
    "interchange_json = json.dumps(interchange)\n",
    "interchange_json"
   ]
  },
  {
   "cell_type": "code",
   "execution_count": 202,
   "metadata": {},
   "outputs": [],
   "source": [
    "# for data in interchange['Customer']:\n",
    "#     print(data['First Name'], data['Last Name'])\n",
    "\n",
    "# for key, value in interchange.items():\n",
    "#     result = print(key, value)\n",
    "\n",
    "# inter_tree = objectpath.Tree(interchange['Customer'])\n",
    "\n",
    "# result = interchange['Customer']\n",
    "# for value_dict in result:\n",
    "#     print ('{0}, {1}'.format(value_dict['First Name'], value_dict['Last Name']))"
   ]
  },
  {
   "cell_type": "code",
   "execution_count": 203,
   "metadata": {},
   "outputs": [],
   "source": [
    "# result = tuple(inter_tree.execute('$..ZipCode'))\n",
    "# result"
   ]
  },
  {
   "cell_type": "code",
   "execution_count": 317,
   "metadata": {},
   "outputs": [],
   "source": [
    "# def extract_values(obj, key):\n",
    "    \n",
    "#     arr = []\n",
    "\n",
    "#     def extract(obj, arr, key):\n",
    "        \n",
    "#         if isinstance(obj, dict):\n",
    "#             for k, v in obj.items():\n",
    "#                 if isinstance(v, (dict, list)):\n",
    "#                     extract(v, arr, key)\n",
    "#                 elif k == key:\n",
    "#                     arr.append(v)\n",
    "#         elif isinstance(obj, list):\n",
    "#             for item in obj:\n",
    "#                 extract(item, arr, key)\n",
    "#         return arr\n",
    "\n",
    "#     results = extract(obj, arr, key)\n",
    "#     return results\n",
    "# Result = extract_values(interchange_json(),'First Name')"
   ]
  },
  {
   "cell_type": "code",
   "execution_count": 189,
   "metadata": {},
   "outputs": [],
   "source": [
    "employee = interchange['Customer']"
   ]
  },
  {
   "cell_type": "code",
   "execution_count": 208,
   "metadata": {},
   "outputs": [
    {
     "data": {
      "text/plain": [
       "dict_keys(['First Name', 'Last Name', 'Address Line1', 'Address Line2', 'ZipCode', 'SSN'])"
      ]
     },
     "execution_count": 208,
     "metadata": {},
     "output_type": "execute_result"
    }
   ],
   "source": [
    "keys = employee.keys()\n",
    "keys"
   ]
  },
  {
   "cell_type": "code",
   "execution_count": 210,
   "metadata": {},
   "outputs": [
    {
     "data": {
      "text/plain": [
       "dict_values(['Jack', 'Smith', '302, Street Avenue', 'California', '3500081', 12456753])"
      ]
     },
     "execution_count": 210,
     "metadata": {},
     "output_type": "execute_result"
    }
   ],
   "source": [
    "values = employee.values()\n",
    "values"
   ]
  },
  {
   "cell_type": "code",
   "execution_count": 212,
   "metadata": {},
   "outputs": [],
   "source": [
    "result = zip(keys,values)"
   ]
  },
  {
   "cell_type": "code",
   "execution_count": 219,
   "metadata": {},
   "outputs": [],
   "source": [
    "listResult = dict(result)"
   ]
  },
  {
   "cell_type": "code",
   "execution_count": 318,
   "metadata": {},
   "outputs": [],
   "source": [
    "# for item in employee:\n",
    "#     print (item.get(\"First Name\"))"
   ]
  },
  {
   "cell_type": "code",
   "execution_count": 252,
   "metadata": {},
   "outputs": [],
   "source": [
    "# class DictQuery(dict):\n",
    "#     def get(self, path, default = None):\n",
    "#         keys = path.split(\"/\")\n",
    "#         val = None\n",
    "\n",
    "#         for key in keys:\n",
    "#             if val:\n",
    "#                 if isinstance(val, list):\n",
    "#                     val = [ v.get(key, default) if v else None for v in val]\n",
    "#                 else:\n",
    "#                     val = val.get(key, default)\n",
    "#             else:\n",
    "#                 val = dict.get(self, key, default)\n",
    "\n",
    "#             if not val:\n",
    "#                 break;\n",
    "\n",
    "#         return val\n",
    "    \n",
    "# for item in interchange:\n",
    "#     print (DictQuery(item).get(\"Customer/First Name\")"
   ]
  },
  {
   "cell_type": "code",
   "execution_count": 279,
   "metadata": {},
   "outputs": [],
   "source": [
    "class AppConfiguration():\n",
    "    def __init__(self, data=None):\n",
    "        if data is None:\n",
    "            with open(\"Interchange File.json\") as fh:\n",
    "                data = json.loads(fh.read())\n",
    "        else:\n",
    "            data = dict(data)\n",
    "\n",
    "        for key, val in data.items():\n",
    "            setattr(self, key, self.compute_attr_value(val))\n",
    "\n",
    "    def compute_attr_value(self, value):\n",
    "        if type(value) is list:\n",
    "            return [self.compute_attr_value(x) for x in value]\n",
    "        elif type(value) is dict:\n",
    "            return AppConfiguration(value)\n",
    "        else:\n",
    "            return value"
   ]
  },
  {
   "cell_type": "code",
   "execution_count": 304,
   "metadata": {},
   "outputs": [],
   "source": [
    "x = \"First Name\"\n",
    "y = \"Last Name\""
   ]
  },
  {
   "cell_type": "code",
   "execution_count": 307,
   "metadata": {},
   "outputs": [
    {
     "data": {
      "text/plain": [
       "'Jack'"
      ]
     },
     "execution_count": 307,
     "metadata": {},
     "output_type": "execute_result"
    }
   ],
   "source": [
    "interchange['Customer'][x]"
   ]
  },
  {
   "cell_type": "code",
   "execution_count": 311,
   "metadata": {},
   "outputs": [
    {
     "data": {
      "text/plain": [
       "12456753"
      ]
     },
     "execution_count": 311,
     "metadata": {},
     "output_type": "execute_result"
    }
   ],
   "source": [
    "instance = AppConfiguration()\n",
    "instance.Customer.SSN"
   ]
  },
  {
   "cell_type": "code",
   "execution_count": 254,
   "metadata": {},
   "outputs": [
    {
     "data": {
      "text/plain": [
       "{'Customer': {'First Name': 'Jack',\n",
       "  'Last Name': 'Smith',\n",
       "  'Address Line1': '302, Street Avenue',\n",
       "  'Address Line2': 'California',\n",
       "  'ZipCode': '3500081',\n",
       "  'SSN': 12456753},\n",
       " 'Claim Details': {'Revenue Code': 'ZX201', 'Claim Amount': 0.0}}"
      ]
     },
     "execution_count": 254,
     "metadata": {},
     "output_type": "execute_result"
    }
   ],
   "source": [
    "interchange"
   ]
  },
  {
   "cell_type": "code",
   "execution_count": null,
   "metadata": {},
   "outputs": [],
   "source": []
  },
  {
   "cell_type": "code",
   "execution_count": null,
   "metadata": {},
   "outputs": [],
   "source": []
  }
 ],
 "metadata": {
  "kernelspec": {
   "display_name": "Python 3",
   "language": "python",
   "name": "python3"
  },
  "language_info": {
   "codemirror_mode": {
    "name": "ipython",
    "version": 3
   },
   "file_extension": ".py",
   "mimetype": "text/x-python",
   "name": "python",
   "nbconvert_exporter": "python",
   "pygments_lexer": "ipython3",
   "version": "3.7.4"
  }
 },
 "nbformat": 4,
 "nbformat_minor": 2
}
